{
 "cells": [
  {
   "cell_type": "code",
   "execution_count": 46,
   "metadata": {},
   "outputs": [
    {
     "data": {
      "text/plain": [
       "<module 'utils' from '/Users/i589142/Documents/GitHub/cloud-computing/utils.py'>"
      ]
     },
     "execution_count": 46,
     "metadata": {},
     "output_type": "execute_result"
    }
   ],
   "source": [
    "import boto3\n",
    "import importlib\n",
    "import utils  \n",
    "importlib.reload(utils)"
   ]
  },
  {
   "cell_type": "code",
   "execution_count": 47,
   "metadata": {},
   "outputs": [],
   "source": [
    "REGION = \"eu-north-1\"  \n",
    "KEY_NAME = \"test-keypair\"\n",
    "MY_PUBLIC_IP = '193.16.224.9/32'\n",
    "KEY_NAME = \"test-keypair\"\n",
    "AMI_UBUNTU = \"ami-042b4708b1d05f512\"\n",
    "INSTANCE_TYPE = \"t3.micro\""
   ]
  },
  {
   "cell_type": "code",
   "execution_count": 49,
   "metadata": {},
   "outputs": [],
   "source": [
    "ec2_client = boto3.client(\"ec2\", region_name=REGION)\n",
    "ec2_resource = boto3.resource(\"ec2\", region_name=REGION)"
   ]
  },
  {
   "cell_type": "code",
   "execution_count": 50,
   "metadata": {},
   "outputs": [
    {
     "name": "stdout",
     "output_type": "stream",
     "text": [
      "Key-Pair test-keypair wurde erstellt und gespeichert.\n"
     ]
    }
   ],
   "source": [
    "key_file_path = utils.create_key_pair(ec2_client, key_name=KEY_NAME)"
   ]
  },
  {
   "cell_type": "code",
   "execution_count": 51,
   "metadata": {},
   "outputs": [
    {
     "name": "stdout",
     "output_type": "stream",
     "text": [
      "test-keypair.pem\n"
     ]
    }
   ],
   "source": [
    "print(key_file_path)"
   ]
  },
  {
   "cell_type": "code",
   "execution_count": 52,
   "metadata": {},
   "outputs": [
    {
     "name": "stdout",
     "output_type": "stream",
     "text": [
      "Created security group sg-035c10501660ed711\n",
      "Security Group ingres authorized.\n"
     ]
    }
   ],
   "source": [
    "security_group_id = utils.create_security_group(ec2_client, group_name=\"main-security-group\", my_public_ip=MY_PUBLIC_IP, desc=\"My decription.\", ssh=True, http=True, flask=True)"
   ]
  },
  {
   "cell_type": "code",
   "execution_count": 53,
   "metadata": {},
   "outputs": [
    {
     "name": "stdout",
     "output_type": "stream",
     "text": [
      "Instanz-ID: i-0e4a293abba32d0e1 wird gestartet...\n",
      "Instanz läuft. Öffentliche IP: 16.171.173.80\n"
     ]
    }
   ],
   "source": [
    "instance = utils.create_instance(ec2_resource, instance_name=\"test-vm\", image_id=AMI_UBUNTU, instance_type=INSTANCE_TYPE, key_name=KEY_NAME, security_group_id=security_group_id)"
   ]
  },
  {
   "cell_type": "code",
   "execution_count": 54,
   "metadata": {},
   "outputs": [],
   "source": [
    "!chmod 400 {key_file_path}"
   ]
  },
  {
   "cell_type": "code",
   "execution_count": 55,
   "metadata": {},
   "outputs": [],
   "source": [
    "!ssh-keyscan {instance.public_ip_address} >> ~/.ssh/known_hosts"
   ]
  },
  {
   "cell_type": "code",
   "execution_count": 56,
   "metadata": {},
   "outputs": [
    {
     "name": "stdout",
     "output_type": "stream",
     "text": [
      "\n",
      "PLAY [Deploy Flask app in Docker] **********************************************\n",
      "\n",
      "TASK [Gathering Facts] *********************************************************\n",
      "\u001b[1;35m[WARNING]: Platform linux on host 16.171.173.80 is using the discovered Python\u001b[0m\n",
      "\u001b[1;35minterpreter at /usr/bin/python3.12, but future installation of another Python\u001b[0m\n",
      "\u001b[1;35minterpreter could change the meaning of that path. See\u001b[0m\n",
      "\u001b[1;35mhttps://docs.ansible.com/ansible-\u001b[0m\n",
      "\u001b[1;35mcore/2.18/reference_appendices/interpreter_discovery.html for more information.\u001b[0m\n",
      "\u001b[0;32mok: [16.171.173.80]\u001b[0m\n",
      "\n",
      "TASK [Install required packages] ***********************************************\n",
      "\u001b[0;33mchanged: [16.171.173.80]\u001b[0m\n",
      "\n",
      "TASK [Ensure Docker service is running] ****************************************\n",
      "\u001b[0;32mok: [16.171.173.80]\u001b[0m\n",
      "\n",
      "TASK [Clone Flask app repository] **********************************************\n",
      "\u001b[0;33mchanged: [16.171.173.80]\u001b[0m\n",
      "\n",
      "TASK [Build Docker image] ******************************************************\n",
      "\u001b[0;33mchanged: [16.171.173.80]\u001b[0m\n",
      "\n",
      "TASK [Run container] ***********************************************************\n",
      "\u001b[0;33mchanged: [16.171.173.80]\u001b[0m\n",
      "\n",
      "PLAY RECAP *********************************************************************\n",
      "\u001b[0;33m16.171.173.80\u001b[0m              : \u001b[0;32mok=6   \u001b[0m \u001b[0;33mchanged=4   \u001b[0m unreachable=0    failed=0    skipped=0    rescued=0    ignored=0   \n",
      "\n"
     ]
    }
   ],
   "source": [
    "!ansible-playbook simple_flask_app_in_docker.yml -i {instance.public_ip_address}, -u ubuntu --private-key {key_file_path}"
   ]
  },
  {
   "cell_type": "code",
   "execution_count": null,
   "metadata": {},
   "outputs": [],
   "source": [
    "!kubectl apply -f deployment.yaml"
   ]
  },
  {
   "cell_type": "code",
   "execution_count": 57,
   "metadata": {},
   "outputs": [
    {
     "data": {
      "text/plain": [
       "{'TerminatingInstances': [{'InstanceId': 'i-0e4a293abba32d0e1',\n",
       "   'CurrentState': {'Code': 32, 'Name': 'shutting-down'},\n",
       "   'PreviousState': {'Code': 16, 'Name': 'running'}}],\n",
       " 'ResponseMetadata': {'RequestId': 'd2838098-852a-48e1-aadc-29d9ddf0848f',\n",
       "  'HTTPStatusCode': 200,\n",
       "  'HTTPHeaders': {'x-amzn-requestid': 'd2838098-852a-48e1-aadc-29d9ddf0848f',\n",
       "   'cache-control': 'no-cache, no-store',\n",
       "   'strict-transport-security': 'max-age=31536000; includeSubDomains',\n",
       "   'content-type': 'text/xml;charset=UTF-8',\n",
       "   'content-length': '426',\n",
       "   'date': 'Tue, 01 Jul 2025 11:44:41 GMT',\n",
       "   'server': 'AmazonEC2'},\n",
       "  'RetryAttempts': 0}}"
      ]
     },
     "execution_count": 57,
     "metadata": {},
     "output_type": "execute_result"
    }
   ],
   "source": [
    "instance.terminate()"
   ]
  },
  {
   "cell_type": "code",
   "execution_count": 59,
   "metadata": {},
   "outputs": [
    {
     "data": {
      "text/plain": [
       "{'Return': True,\n",
       " 'GroupId': 'sg-035c10501660ed711',\n",
       " 'ResponseMetadata': {'RequestId': 'e1fc88d6-1f28-4906-9992-1b82276eea16',\n",
       "  'HTTPStatusCode': 200,\n",
       "  'HTTPHeaders': {'x-amzn-requestid': 'e1fc88d6-1f28-4906-9992-1b82276eea16',\n",
       "   'cache-control': 'no-cache, no-store',\n",
       "   'strict-transport-security': 'max-age=31536000; includeSubDomains',\n",
       "   'content-type': 'text/xml;charset=UTF-8',\n",
       "   'content-length': '266',\n",
       "   'date': 'Tue, 01 Jul 2025 11:45:21 GMT',\n",
       "   'server': 'AmazonEC2'},\n",
       "  'RetryAttempts': 0}}"
      ]
     },
     "execution_count": 59,
     "metadata": {},
     "output_type": "execute_result"
    }
   ],
   "source": [
    "ec2_client.delete_security_group(GroupId=security_group_id)"
   ]
  },
  {
   "cell_type": "code",
   "execution_count": 60,
   "metadata": {},
   "outputs": [
    {
     "data": {
      "text/plain": [
       "{'Return': True,\n",
       " 'KeyPairId': 'key-0520d2543eade30f2',\n",
       " 'ResponseMetadata': {'RequestId': 'afcd6831-88ae-4447-981f-4e17cdf932c8',\n",
       "  'HTTPStatusCode': 200,\n",
       "  'HTTPHeaders': {'x-amzn-requestid': 'afcd6831-88ae-4447-981f-4e17cdf932c8',\n",
       "   'cache-control': 'no-cache, no-store',\n",
       "   'strict-transport-security': 'max-age=31536000; includeSubDomains',\n",
       "   'content-type': 'text/xml;charset=UTF-8',\n",
       "   'content-length': '259',\n",
       "   'date': 'Tue, 01 Jul 2025 11:45:23 GMT',\n",
       "   'server': 'AmazonEC2'},\n",
       "  'RetryAttempts': 0}}"
      ]
     },
     "execution_count": 60,
     "metadata": {},
     "output_type": "execute_result"
    }
   ],
   "source": [
    "ec2_client.delete_key_pair(KeyName=KEY_NAME)"
   ]
  }
 ],
 "metadata": {
  "kernelspec": {
   "display_name": ".venv",
   "language": "python",
   "name": "python3"
  },
  "language_info": {
   "codemirror_mode": {
    "name": "ipython",
    "version": 3
   },
   "file_extension": ".py",
   "mimetype": "text/x-python",
   "name": "python",
   "nbconvert_exporter": "python",
   "pygments_lexer": "ipython3",
   "version": "3.11.0"
  }
 },
 "nbformat": 4,
 "nbformat_minor": 2
}
