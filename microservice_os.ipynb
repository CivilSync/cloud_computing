{
 "cells": [
  {
   "cell_type": "code",
   "execution_count": 1,
   "metadata": {},
   "outputs": [
    {
     "data": {
      "text/plain": [
       "<module 'utils_open_stack' from '/Users/i589142/Documents/GitHub/cloud_computing/utils_open_stack.py'>"
      ]
     },
     "execution_count": 1,
     "metadata": {},
     "output_type": "execute_result"
    }
   ],
   "source": [
    "from openstack import connection\n",
    "import importlib\n",
    "import utils_open_stack as utils\n",
    "importlib.reload(utils)"
   ]
  },
  {
   "cell_type": "code",
   "execution_count": 2,
   "metadata": {},
   "outputs": [],
   "source": [
    "KEY_NAME = \"test-keypair\"\n",
    "MY_PUBLIC_IP = '193.16.224.0/32'\n",
    "KEY_NAME = \"tf_openstack_sdk_test\"\n",
    "IMAGE_NAME = \"Ubuntu 22.04\"\n",
    "FLAVOUR_NAME = \"mb1.small\""
   ]
  },
  {
   "cell_type": "code",
   "execution_count": 3,
   "metadata": {},
   "outputs": [],
   "source": [
    "conn = connection.from_config(cloud='openstack')"
   ]
  },
  {
   "cell_type": "code",
   "execution_count": 4,
   "metadata": {},
   "outputs": [
    {
     "name": "stdout",
     "output_type": "stream",
     "text": [
      "Create keypair:\n",
      "Created keypair tf_openstack_sdk_test\n"
     ]
    }
   ],
   "source": [
    "key_pair, key_pair_path = utils.create_keypair(conn, key_name=KEY_NAME)"
   ]
  },
  {
   "cell_type": "code",
   "execution_count": 5,
   "metadata": {},
   "outputs": [
    {
     "data": {
      "text/plain": [
       "'tf_openstack_sdk_test.pem'"
      ]
     },
     "execution_count": 5,
     "metadata": {},
     "output_type": "execute_result"
    }
   ],
   "source": [
    "key_pair_path"
   ]
  },
  {
   "cell_type": "code",
   "execution_count": 6,
   "metadata": {},
   "outputs": [
    {
     "name": "stdout",
     "output_type": "stream",
     "text": [
      "Created security group 9bb2c2e2-4bfd-4fee-bc31-2c35ee603c91\n",
      "Security Group ingress rules authorized.\n"
     ]
    }
   ],
   "source": [
    "security_group = utils.create_security_group(conn, group_name=\"tf_main_security_group\", my_public_ip=MY_PUBLIC_IP, desc=\"\", ssh=True, http=True, flask=True)"
   ]
  },
  {
   "cell_type": "code",
   "execution_count": 7,
   "metadata": {},
   "outputs": [
    {
     "name": "stdout",
     "output_type": "stream",
     "text": [
      "Create Server:\n",
      "Created server tf_open_stack_test on public ip \n"
     ]
    }
   ],
   "source": [
    "server = utils.create_server(conn, image_name=IMAGE_NAME, flavor_name=FLAVOUR_NAME, network_name=\"provider_912\", server_name=\"tf_open_stack_test\", key_name=KEY_NAME)"
   ]
  },
  {
   "cell_type": "code",
   "execution_count": 9,
   "metadata": {},
   "outputs": [
    {
     "data": {
      "text/plain": [
       "''"
      ]
     },
     "execution_count": 9,
     "metadata": {},
     "output_type": "execute_result"
    }
   ],
   "source": [
    "server"
   ]
  },
  {
   "cell_type": "code",
   "execution_count": 8,
   "metadata": {},
   "outputs": [
    {
     "name": "stdout",
     "output_type": "stream",
     "text": [
      "usage: ssh-keyscan [-46cDHqv] [-f file] [-O option] [-p port] [-T timeout]\n",
      "                   [-t type] [host | addrlist namelist]\n"
     ]
    }
   ],
   "source": [
    "!ssh-keyscan {server.access_ipv4} >> ~/.ssh/known_hosts"
   ]
  },
  {
   "cell_type": "code",
   "execution_count": null,
   "metadata": {},
   "outputs": [],
   "source": [
    "!ansible-playbook install_flask_app.yml -i {instance.public_ip_address}, -u ubuntu --private-key {}"
   ]
  },
  {
   "cell_type": "code",
   "execution_count": 92,
   "metadata": {},
   "outputs": [],
   "source": [
    "conn.compute.delete_server(server)"
   ]
  },
  {
   "cell_type": "code",
   "execution_count": 93,
   "metadata": {},
   "outputs": [],
   "source": [
    "conn.network.delete_security_group(security_group)"
   ]
  },
  {
   "cell_type": "code",
   "execution_count": 94,
   "metadata": {},
   "outputs": [],
   "source": [
    "conn.compute.delete_keypair(key_pair)"
   ]
  }
 ],
 "metadata": {
  "kernelspec": {
   "display_name": ".venv",
   "language": "python",
   "name": "python3"
  },
  "language_info": {
   "codemirror_mode": {
    "name": "ipython",
    "version": 3
   },
   "file_extension": ".py",
   "mimetype": "text/x-python",
   "name": "python",
   "nbconvert_exporter": "python",
   "pygments_lexer": "ipython3",
   "version": "3.11.0"
  }
 },
 "nbformat": 4,
 "nbformat_minor": 2
}
